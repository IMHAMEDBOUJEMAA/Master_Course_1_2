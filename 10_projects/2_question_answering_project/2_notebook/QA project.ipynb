{
 "cells": [
  {
   "cell_type": "markdown",
   "id": "99a1b842",
   "metadata": {},
   "source": [
    "# NLP_Project : Question&Response\n",
    "\n",
    " - developer : imhamed boujemaa \n",
    " - Class : RAIA "
   ]
  },
  {
   "cell_type": "markdown",
   "id": "8b37538a",
   "metadata": {},
   "source": [
    "## Objective : \n",
    "\n",
    "The objective of this notebook is to demonstrate a simple question-answering system using natural language processing techniques. \n",
    "The system uses a dataset of frequently asked questions and their corresponding answers (Article) to find the closest match to a given question and return the corresponding answer. The system is based on the TF-IDF algorithm and cosine similarity measure for text matching, and the NLTK library for text preprocessing and tokenization. "
   ]
  },
  {
   "cell_type": "markdown",
   "id": "cb54f603",
   "metadata": {},
   "source": [
    "### import libraries "
   ]
  },
  {
   "cell_type": "code",
   "execution_count": 100,
   "id": "e4eb3a89",
   "metadata": {},
   "outputs": [],
   "source": [
    "import pandas as pd\n",
    "import numpy as np\n",
    "import seaborn as sns\n",
    "import matplotlib.pyplot as plt \n",
    "import nltk\n",
    "import string"
   ]
  },
  {
   "cell_type": "code",
   "execution_count": 101,
   "id": "618d80dd",
   "metadata": {},
   "outputs": [],
   "source": [
    "from nltk.tokenize import word_tokenize\n",
    "from nltk.stem import WordNetLemmatizer\n",
    "from nltk.corpus import stopwords\n",
    "from nltk.corpus import wordnet\n",
    "from nltk import pos_tag\n",
    "from sklearn.feature_extraction.text import TfidfVectorizer\n",
    "from sklearn.metrics.pairwise import cosine_similarity"
   ]
  },
  {
   "cell_type": "markdown",
   "id": "61ea00aa",
   "metadata": {},
   "source": [
    "## Explanation :\n",
    "\n",
    " - word_tokenize : it's a function from NLTK library to divise the text on words also called tokens\n",
    " \n",
    " - WordNetLemmatizer : it's a function to perform word lemmatization, that is to reduce words to their canonical form (lemma)\n",
    " \n",
    " - stopwords : import the list of s_w, s_w are very frequent and usually insignifcant words which can be removed form the text during data preparation.\n",
    " \n",
    " - wordnet : is a lexical database that contains synonyms, antonyms and semantic relationships between words.\n",
    " \n",
    " - pos_tag : it's a function to label the part of speech (POS) of each word in the text.\n",
    " \n",
    " - TfidVectorize : it's a class form scikit-learn library, is a common text vectorization technique in NLP that transform text into digital feature vectors.\n",
    " \n",
    " - cosine_similarity : Objectif : to calculate the cosine similarity between two vectors, this function is often used in QA models to calculate the similarity between the user's question and the possible answers.\n",
    " \n",
    " "
   ]
  },
  {
   "cell_type": "markdown",
   "id": "540d91ab",
   "metadata": {},
   "source": [
    "### import data\n",
    "\n",
    " - importing 3 files of data \n",
    " - we use the tab separator as a field separator \"\\t\" , beacause as default is \";\" , in our data we have \";\"\n",
    " - df3 also uses the 'ISO-8859-1' encoding to read the CSV file, as this file may contain non-ASCII characters that cannot be read with the default 'utf-8' encoding."
   ]
  },
  {
   "cell_type": "code",
   "execution_count": 102,
   "id": "03205000",
   "metadata": {},
   "outputs": [],
   "source": [
    "df1 = pd.read_csv('S08_question_answer_pairs.txt', sep='\\t')\n",
    "df2 = pd.read_csv('S09_question_answer_pairs.txt', sep='\\t')\n",
    "df3 = pd.read_csv('S10_question_answer_pairs.txt', sep='\\t', encoding = 'ISO-8859-1')"
   ]
  },
  {
   "cell_type": "markdown",
   "id": "47020847",
   "metadata": {},
   "source": [
    "### data visualization&Processing..."
   ]
  },
  {
   "cell_type": "code",
   "execution_count": 103,
   "id": "44b47749",
   "metadata": {},
   "outputs": [
    {
     "data": {
      "text/html": [
       "<div>\n",
       "<style scoped>\n",
       "    .dataframe tbody tr th:only-of-type {\n",
       "        vertical-align: middle;\n",
       "    }\n",
       "\n",
       "    .dataframe tbody tr th {\n",
       "        vertical-align: top;\n",
       "    }\n",
       "\n",
       "    .dataframe thead th {\n",
       "        text-align: right;\n",
       "    }\n",
       "</style>\n",
       "<table border=\"1\" class=\"dataframe\">\n",
       "  <thead>\n",
       "    <tr style=\"text-align: right;\">\n",
       "      <th></th>\n",
       "      <th>ArticleTitle</th>\n",
       "      <th>Question</th>\n",
       "      <th>Answer</th>\n",
       "      <th>DifficultyFromQuestioner</th>\n",
       "      <th>DifficultyFromAnswerer</th>\n",
       "      <th>ArticleFile</th>\n",
       "    </tr>\n",
       "  </thead>\n",
       "  <tbody>\n",
       "    <tr>\n",
       "      <th>0</th>\n",
       "      <td>Abraham_Lincoln</td>\n",
       "      <td>Was Abraham Lincoln the sixteenth President of...</td>\n",
       "      <td>yes</td>\n",
       "      <td>easy</td>\n",
       "      <td>easy</td>\n",
       "      <td>S08_set3_a4</td>\n",
       "    </tr>\n",
       "    <tr>\n",
       "      <th>1</th>\n",
       "      <td>Abraham_Lincoln</td>\n",
       "      <td>Was Abraham Lincoln the sixteenth President of...</td>\n",
       "      <td>Yes.</td>\n",
       "      <td>easy</td>\n",
       "      <td>easy</td>\n",
       "      <td>S08_set3_a4</td>\n",
       "    </tr>\n",
       "    <tr>\n",
       "      <th>2</th>\n",
       "      <td>Abraham_Lincoln</td>\n",
       "      <td>Did Lincoln sign the National Banking Act of 1...</td>\n",
       "      <td>yes</td>\n",
       "      <td>easy</td>\n",
       "      <td>medium</td>\n",
       "      <td>S08_set3_a4</td>\n",
       "    </tr>\n",
       "    <tr>\n",
       "      <th>3</th>\n",
       "      <td>Abraham_Lincoln</td>\n",
       "      <td>Did Lincoln sign the National Banking Act of 1...</td>\n",
       "      <td>Yes.</td>\n",
       "      <td>easy</td>\n",
       "      <td>easy</td>\n",
       "      <td>S08_set3_a4</td>\n",
       "    </tr>\n",
       "    <tr>\n",
       "      <th>4</th>\n",
       "      <td>Abraham_Lincoln</td>\n",
       "      <td>Did his mother die of pneumonia?</td>\n",
       "      <td>no</td>\n",
       "      <td>easy</td>\n",
       "      <td>medium</td>\n",
       "      <td>S08_set3_a4</td>\n",
       "    </tr>\n",
       "  </tbody>\n",
       "</table>\n",
       "</div>"
      ],
      "text/plain": [
       "      ArticleTitle                                           Question Answer  \\\n",
       "0  Abraham_Lincoln  Was Abraham Lincoln the sixteenth President of...    yes   \n",
       "1  Abraham_Lincoln  Was Abraham Lincoln the sixteenth President of...   Yes.   \n",
       "2  Abraham_Lincoln  Did Lincoln sign the National Banking Act of 1...    yes   \n",
       "3  Abraham_Lincoln  Did Lincoln sign the National Banking Act of 1...   Yes.   \n",
       "4  Abraham_Lincoln                   Did his mother die of pneumonia?     no   \n",
       "\n",
       "  DifficultyFromQuestioner DifficultyFromAnswerer  ArticleFile  \n",
       "0                     easy                   easy  S08_set3_a4  \n",
       "1                     easy                   easy  S08_set3_a4  \n",
       "2                     easy                 medium  S08_set3_a4  \n",
       "3                     easy                   easy  S08_set3_a4  \n",
       "4                     easy                 medium  S08_set3_a4  "
      ]
     },
     "execution_count": 103,
     "metadata": {},
     "output_type": "execute_result"
    }
   ],
   "source": [
    "df1.head()"
   ]
  },
  {
   "cell_type": "code",
   "execution_count": 104,
   "id": "e6516c0c",
   "metadata": {},
   "outputs": [
    {
     "data": {
      "text/plain": [
       "array(['Abraham_Lincoln', 'Alessandro_Volta', 'Amedeo_Avogadro',\n",
       "       'Anders_Celsius', 'beetle', 'Calvin_Coolidge', 'Canada', 'duck',\n",
       "       'Egypt', 'elephant', 'Finland', 'Gerald_Ford', '\\\\n', 'Ghana',\n",
       "       'Gray_Wolf', 'Grover_Cleveland', 'Henri_Becquerel', 'Indonesia',\n",
       "       'Isaac_Newton', 'James_Monroe', 'James_Watt', 'John_Adams',\n",
       "       'kangaroo', 'leopard', 'Liechtenstein', 'Millard_Fillmore',\n",
       "       'Nikola_Tesla', 'otter', 'penguin', 'polar_bear', 'Qatar',\n",
       "       'Romania', 'Singapore', 'Theodore_Roosevelt', 'turtle',\n",
       "       'Ulysses_S._Grant', 'Uruguay', 'Woodrow_Wilson'], dtype=object)"
      ]
     },
     "execution_count": 104,
     "metadata": {},
     "output_type": "execute_result"
    }
   ],
   "source": [
    "df1['ArticleTitle'].unique()"
   ]
  },
  {
   "cell_type": "code",
   "execution_count": 105,
   "id": "679c19ec",
   "metadata": {},
   "outputs": [
    {
     "data": {
      "text/html": [
       "<div>\n",
       "<style scoped>\n",
       "    .dataframe tbody tr th:only-of-type {\n",
       "        vertical-align: middle;\n",
       "    }\n",
       "\n",
       "    .dataframe tbody tr th {\n",
       "        vertical-align: top;\n",
       "    }\n",
       "\n",
       "    .dataframe thead th {\n",
       "        text-align: right;\n",
       "    }\n",
       "</style>\n",
       "<table border=\"1\" class=\"dataframe\">\n",
       "  <thead>\n",
       "    <tr style=\"text-align: right;\">\n",
       "      <th></th>\n",
       "      <th>ArticleTitle</th>\n",
       "      <th>Question</th>\n",
       "      <th>Answer</th>\n",
       "      <th>DifficultyFromQuestioner</th>\n",
       "      <th>DifficultyFromAnswerer</th>\n",
       "      <th>ArticleFile</th>\n",
       "    </tr>\n",
       "  </thead>\n",
       "  <tbody>\n",
       "    <tr>\n",
       "      <th>0</th>\n",
       "      <td>Alessandro_Volta</td>\n",
       "      <td>Was Volta an Italian physicist?</td>\n",
       "      <td>yes</td>\n",
       "      <td>easy</td>\n",
       "      <td>easy</td>\n",
       "      <td>S09_set4_a10</td>\n",
       "    </tr>\n",
       "    <tr>\n",
       "      <th>1</th>\n",
       "      <td>Alessandro_Volta</td>\n",
       "      <td>Was Volta an Italian physicist?</td>\n",
       "      <td>yes</td>\n",
       "      <td>easy</td>\n",
       "      <td>easy</td>\n",
       "      <td>S09_set4_a10</td>\n",
       "    </tr>\n",
       "    <tr>\n",
       "      <th>2</th>\n",
       "      <td>Alessandro_Volta</td>\n",
       "      <td>Is Volta buried in the city of Pittsburgh?</td>\n",
       "      <td>no</td>\n",
       "      <td>easy</td>\n",
       "      <td>easy</td>\n",
       "      <td>S09_set4_a10</td>\n",
       "    </tr>\n",
       "    <tr>\n",
       "      <th>3</th>\n",
       "      <td>Alessandro_Volta</td>\n",
       "      <td>Is Volta buried in the city of Pittsburgh?</td>\n",
       "      <td>no</td>\n",
       "      <td>easy</td>\n",
       "      <td>easy</td>\n",
       "      <td>S09_set4_a10</td>\n",
       "    </tr>\n",
       "    <tr>\n",
       "      <th>4</th>\n",
       "      <td>Alessandro_Volta</td>\n",
       "      <td>Did Volta have a passion for the study of elec...</td>\n",
       "      <td>yes</td>\n",
       "      <td>easy</td>\n",
       "      <td>medium</td>\n",
       "      <td>S09_set4_a10</td>\n",
       "    </tr>\n",
       "  </tbody>\n",
       "</table>\n",
       "</div>"
      ],
      "text/plain": [
       "       ArticleTitle                                           Question Answer  \\\n",
       "0  Alessandro_Volta                    Was Volta an Italian physicist?    yes   \n",
       "1  Alessandro_Volta                    Was Volta an Italian physicist?    yes   \n",
       "2  Alessandro_Volta         Is Volta buried in the city of Pittsburgh?     no   \n",
       "3  Alessandro_Volta         Is Volta buried in the city of Pittsburgh?     no   \n",
       "4  Alessandro_Volta  Did Volta have a passion for the study of elec...    yes   \n",
       "\n",
       "  DifficultyFromQuestioner DifficultyFromAnswerer   ArticleFile  \n",
       "0                     easy                   easy  S09_set4_a10  \n",
       "1                     easy                   easy  S09_set4_a10  \n",
       "2                     easy                   easy  S09_set4_a10  \n",
       "3                     easy                   easy  S09_set4_a10  \n",
       "4                     easy                 medium  S09_set4_a10  "
      ]
     },
     "execution_count": 105,
     "metadata": {},
     "output_type": "execute_result"
    }
   ],
   "source": [
    "df2.head()"
   ]
  },
  {
   "cell_type": "code",
   "execution_count": 106,
   "id": "5fc59c3b",
   "metadata": {},
   "outputs": [
    {
     "data": {
      "text/plain": [
       "array(['Alessandro_Volta', 'Amedeo_Avogadro', 'Anders_Celsius',\n",
       "       'Arabic_language', 'Bee', 'Beijing', 'Blaise_Pascal', 'Cello',\n",
       "       'Charles-Augustin_de_Coulomb', 'Chinese_language', 'Copenhagen',\n",
       "       'Cymbal', 'Dhaka', 'English_language', 'Flute', 'Fox',\n",
       "       'French_language', 'German_language', 'Giraffe', 'Henri_Becquerel',\n",
       "       'Isaac_Newton', 'Italian_language', 'James_Watt',\n",
       "       'Japanese_language', 'Lima', 'London', 'Lyre', 'Michael_Faraday',\n",
       "       'Nassau', 'Nikola_Tesla', 'Ottawa', 'Otter', 'Santiago',\n",
       "       'Spanish_language', 'Swahili_language', 'Swan', 'Tiger', 'Trumpet',\n",
       "       'Turtle', 'Violin', 'Xylophone'], dtype=object)"
      ]
     },
     "execution_count": 106,
     "metadata": {},
     "output_type": "execute_result"
    }
   ],
   "source": [
    "df2['ArticleTitle'].unique()"
   ]
  },
  {
   "cell_type": "code",
   "execution_count": 107,
   "id": "ee53e342",
   "metadata": {},
   "outputs": [
    {
     "data": {
      "text/html": [
       "<div>\n",
       "<style scoped>\n",
       "    .dataframe tbody tr th:only-of-type {\n",
       "        vertical-align: middle;\n",
       "    }\n",
       "\n",
       "    .dataframe tbody tr th {\n",
       "        vertical-align: top;\n",
       "    }\n",
       "\n",
       "    .dataframe thead th {\n",
       "        text-align: right;\n",
       "    }\n",
       "</style>\n",
       "<table border=\"1\" class=\"dataframe\">\n",
       "  <thead>\n",
       "    <tr style=\"text-align: right;\">\n",
       "      <th></th>\n",
       "      <th>ArticleTitle</th>\n",
       "      <th>Question</th>\n",
       "      <th>Answer</th>\n",
       "      <th>DifficultyFromQuestioner</th>\n",
       "      <th>DifficultyFromAnswerer</th>\n",
       "      <th>ArticleFile</th>\n",
       "    </tr>\n",
       "  </thead>\n",
       "  <tbody>\n",
       "    <tr>\n",
       "      <th>0</th>\n",
       "      <td>Alessandro_Volta</td>\n",
       "      <td>Was Alessandro Volta a professor of chemistry?</td>\n",
       "      <td>Alessandro Volta was not a professor of chemis...</td>\n",
       "      <td>easy</td>\n",
       "      <td>easy</td>\n",
       "      <td>S10_set4_a10</td>\n",
       "    </tr>\n",
       "    <tr>\n",
       "      <th>1</th>\n",
       "      <td>Alessandro_Volta</td>\n",
       "      <td>Was Alessandro Volta a professor of chemistry?</td>\n",
       "      <td>No</td>\n",
       "      <td>easy</td>\n",
       "      <td>hard</td>\n",
       "      <td>S10_set4_a10</td>\n",
       "    </tr>\n",
       "    <tr>\n",
       "      <th>2</th>\n",
       "      <td>Alessandro_Volta</td>\n",
       "      <td>Did Alessandro Volta invent the remotely opera...</td>\n",
       "      <td>Alessandro Volta did invent the remotely opera...</td>\n",
       "      <td>easy</td>\n",
       "      <td>easy</td>\n",
       "      <td>S10_set4_a10</td>\n",
       "    </tr>\n",
       "    <tr>\n",
       "      <th>3</th>\n",
       "      <td>Alessandro_Volta</td>\n",
       "      <td>Did Alessandro Volta invent the remotely opera...</td>\n",
       "      <td>Yes</td>\n",
       "      <td>easy</td>\n",
       "      <td>easy</td>\n",
       "      <td>S10_set4_a10</td>\n",
       "    </tr>\n",
       "    <tr>\n",
       "      <th>4</th>\n",
       "      <td>Alessandro_Volta</td>\n",
       "      <td>Was Alessandro Volta taught in public schools?</td>\n",
       "      <td>Volta was taught in public schools.</td>\n",
       "      <td>easy</td>\n",
       "      <td>easy</td>\n",
       "      <td>S10_set4_a10</td>\n",
       "    </tr>\n",
       "  </tbody>\n",
       "</table>\n",
       "</div>"
      ],
      "text/plain": [
       "       ArticleTitle                                           Question  \\\n",
       "0  Alessandro_Volta     Was Alessandro Volta a professor of chemistry?   \n",
       "1  Alessandro_Volta     Was Alessandro Volta a professor of chemistry?   \n",
       "2  Alessandro_Volta  Did Alessandro Volta invent the remotely opera...   \n",
       "3  Alessandro_Volta  Did Alessandro Volta invent the remotely opera...   \n",
       "4  Alessandro_Volta     Was Alessandro Volta taught in public schools?   \n",
       "\n",
       "                                              Answer DifficultyFromQuestioner  \\\n",
       "0  Alessandro Volta was not a professor of chemis...                     easy   \n",
       "1                                                 No                     easy   \n",
       "2  Alessandro Volta did invent the remotely opera...                     easy   \n",
       "3                                                Yes                     easy   \n",
       "4                Volta was taught in public schools.                     easy   \n",
       "\n",
       "  DifficultyFromAnswerer   ArticleFile  \n",
       "0                   easy  S10_set4_a10  \n",
       "1                   hard  S10_set4_a10  \n",
       "2                   easy  S10_set4_a10  \n",
       "3                   easy  S10_set4_a10  \n",
       "4                   easy  S10_set4_a10  "
      ]
     },
     "execution_count": 107,
     "metadata": {},
     "output_type": "execute_result"
    }
   ],
   "source": [
    "df3.head()"
   ]
  },
  {
   "cell_type": "code",
   "execution_count": 108,
   "id": "2916d94d",
   "metadata": {},
   "outputs": [
    {
     "data": {
      "text/plain": [
       "array(['Alessandro_Volta', 'Amedeo_Avogadro', 'Ant', 'Antwerp',\n",
       "       'Arabic_language', 'Berlin', 'Blaise_Pascal', 'Butterfly', 'Cello',\n",
       "       'Charles-Augustin_de_Coulomb', 'Chinese_language', 'Cougar',\n",
       "       'Cymbal', 'Dragonfly', 'Drum', 'Eel', 'Finnish_language', 'Flute',\n",
       "       'Giant_Panda', 'Guitar', 'Henri_Becquerel', 'Isaac_Newton',\n",
       "       'Jackson_Pollock', 'Jakarta', 'James_Watt', 'Koala',\n",
       "       'Korean_language', 'Kuala_Lumpur', 'Leonardo_da_Vinci', 'Lobster',\n",
       "       'Lyre', 'Malay_language', 'Melbourne', 'Michael_Faraday',\n",
       "       'Michelangelo', 'Montreal', 'Nairobi', 'Nikola_Tesla',\n",
       "       'Norman_Rockwell', 'Octopus', 'Pablo_Picasso', 'Piano',\n",
       "       'Pierre-Auguste_Renoir', 'Portuguese_language', 'Saint_Petersburg',\n",
       "       'San_Francisco', 'Swahili_language', 'Swedish_language', 'Taipei',\n",
       "       'Trumpet', 'Turkish_language', 'Vietnamese_language',\n",
       "       'Vincent_van_Gogh', 'Violin', 'Xylophone', 'Zebra'], dtype=object)"
      ]
     },
     "execution_count": 108,
     "metadata": {},
     "output_type": "execute_result"
    }
   ],
   "source": [
    "df3['ArticleTitle'].unique()"
   ]
  },
  {
   "cell_type": "markdown",
   "id": "bad5ff9e",
   "metadata": {},
   "source": [
    "### As we can see : df1,df2 and df3 contain the same columns but different QA,  for that we will concatenate the three files in a single file. "
   ]
  },
  {
   "cell_type": "code",
   "execution_count": 109,
   "id": "8ee1a181",
   "metadata": {},
   "outputs": [
    {
     "name": "stdout",
     "output_type": "stream",
     "text": [
      "<class 'pandas.core.frame.DataFrame'>\n",
      "Int64Index: 3998 entries, 0 to 1457\n",
      "Data columns (total 6 columns):\n",
      " #   Column                    Non-Null Count  Dtype \n",
      "---  ------                    --------------  ----- \n",
      " 0   ArticleTitle              3998 non-null   object\n",
      " 1   Question                  3961 non-null   object\n",
      " 2   Answer                    3422 non-null   object\n",
      " 3   DifficultyFromQuestioner  3043 non-null   object\n",
      " 4   DifficultyFromAnswerer    3418 non-null   object\n",
      " 5   ArticleFile               3996 non-null   object\n",
      "dtypes: object(6)\n",
      "memory usage: 218.6+ KB\n"
     ]
    }
   ],
   "source": [
    "all_data =pd.concat([df1,df2,df3])\n",
    "all_data.info()\n",
    "# we can use df1.append([df2,df3]) , but this function will be removed from pandas"
   ]
  },
  {
   "cell_type": "code",
   "execution_count": 110,
   "id": "105b7b21",
   "metadata": {},
   "outputs": [
    {
     "data": {
      "text/plain": [
       "(3998, 6)"
      ]
     },
     "execution_count": 110,
     "metadata": {},
     "output_type": "execute_result"
    }
   ],
   "source": [
    "all_data.shape"
   ]
  },
  {
   "cell_type": "markdown",
   "id": "63ef0b2d",
   "metadata": {},
   "source": [
    "## in our project we use only ['Question', 'Answer'] , for that we select only this 2 columns"
   ]
  },
  {
   "cell_type": "code",
   "execution_count": 111,
   "id": "a91b2269",
   "metadata": {},
   "outputs": [],
   "source": [
    "all_data['Question'] = all_data['ArticleTitle'].str.replace('_', ' ') + ' : ' + all_data['Question']\n",
    "# Add article title to each question by concatenating ArticleTitle and Question columns with a space between them\n",
    "all_data = all_data[['Question', 'Answer']]\n",
    "# Keep only the 'Question' and 'Answer' columns in the dataframe"
   ]
  },
  {
   "cell_type": "code",
   "execution_count": 112,
   "id": "275bf2e0",
   "metadata": {},
   "outputs": [
    {
     "data": {
      "text/plain": [
       "(3998, 2)"
      ]
     },
     "execution_count": 112,
     "metadata": {},
     "output_type": "execute_result"
    }
   ],
   "source": [
    "all_data.shape"
   ]
  },
  {
   "cell_type": "code",
   "execution_count": 113,
   "id": "35a240c2",
   "metadata": {},
   "outputs": [
    {
     "data": {
      "text/html": [
       "<div>\n",
       "<style scoped>\n",
       "    .dataframe tbody tr th:only-of-type {\n",
       "        vertical-align: middle;\n",
       "    }\n",
       "\n",
       "    .dataframe tbody tr th {\n",
       "        vertical-align: top;\n",
       "    }\n",
       "\n",
       "    .dataframe thead th {\n",
       "        text-align: right;\n",
       "    }\n",
       "</style>\n",
       "<table border=\"1\" class=\"dataframe\">\n",
       "  <thead>\n",
       "    <tr style=\"text-align: right;\">\n",
       "      <th></th>\n",
       "      <th>Question</th>\n",
       "      <th>Answer</th>\n",
       "    </tr>\n",
       "  </thead>\n",
       "  <tbody>\n",
       "    <tr>\n",
       "      <th>0</th>\n",
       "      <td>Abraham Lincoln : Was Abraham Lincoln the sixt...</td>\n",
       "      <td>yes</td>\n",
       "    </tr>\n",
       "    <tr>\n",
       "      <th>1</th>\n",
       "      <td>Abraham Lincoln : Was Abraham Lincoln the sixt...</td>\n",
       "      <td>Yes.</td>\n",
       "    </tr>\n",
       "    <tr>\n",
       "      <th>2</th>\n",
       "      <td>Abraham Lincoln : Did Lincoln sign the Nationa...</td>\n",
       "      <td>yes</td>\n",
       "    </tr>\n",
       "    <tr>\n",
       "      <th>3</th>\n",
       "      <td>Abraham Lincoln : Did Lincoln sign the Nationa...</td>\n",
       "      <td>Yes.</td>\n",
       "    </tr>\n",
       "    <tr>\n",
       "      <th>4</th>\n",
       "      <td>Abraham Lincoln : Did his mother die of pneumo...</td>\n",
       "      <td>no</td>\n",
       "    </tr>\n",
       "    <tr>\n",
       "      <th>5</th>\n",
       "      <td>Abraham Lincoln : Did his mother die of pneumo...</td>\n",
       "      <td>No.</td>\n",
       "    </tr>\n",
       "    <tr>\n",
       "      <th>6</th>\n",
       "      <td>Abraham Lincoln : How many long was Lincoln's ...</td>\n",
       "      <td>18 months</td>\n",
       "    </tr>\n",
       "    <tr>\n",
       "      <th>7</th>\n",
       "      <td>Abraham Lincoln : How many long was Lincoln's ...</td>\n",
       "      <td>18 months.</td>\n",
       "    </tr>\n",
       "    <tr>\n",
       "      <th>8</th>\n",
       "      <td>Abraham Lincoln : When did Lincoln begin his p...</td>\n",
       "      <td>1832</td>\n",
       "    </tr>\n",
       "    <tr>\n",
       "      <th>9</th>\n",
       "      <td>Abraham Lincoln : When did Lincoln begin his p...</td>\n",
       "      <td>1832.</td>\n",
       "    </tr>\n",
       "  </tbody>\n",
       "</table>\n",
       "</div>"
      ],
      "text/plain": [
       "                                            Question      Answer\n",
       "0  Abraham Lincoln : Was Abraham Lincoln the sixt...         yes\n",
       "1  Abraham Lincoln : Was Abraham Lincoln the sixt...        Yes.\n",
       "2  Abraham Lincoln : Did Lincoln sign the Nationa...         yes\n",
       "3  Abraham Lincoln : Did Lincoln sign the Nationa...        Yes.\n",
       "4  Abraham Lincoln : Did his mother die of pneumo...          no\n",
       "5  Abraham Lincoln : Did his mother die of pneumo...         No.\n",
       "6  Abraham Lincoln : How many long was Lincoln's ...   18 months\n",
       "7  Abraham Lincoln : How many long was Lincoln's ...  18 months.\n",
       "8  Abraham Lincoln : When did Lincoln begin his p...        1832\n",
       "9  Abraham Lincoln : When did Lincoln begin his p...       1832."
      ]
     },
     "execution_count": 113,
     "metadata": {},
     "output_type": "execute_result"
    }
   ],
   "source": [
    "all_data.head(10)"
   ]
  },
  {
   "cell_type": "code",
   "execution_count": 114,
   "id": "d999eb14",
   "metadata": {},
   "outputs": [],
   "source": [
    "all_data = all_data.drop_duplicates(subset='Question')\n",
    "# Remove duplicate questions in the dataframe"
   ]
  },
  {
   "cell_type": "code",
   "execution_count": 115,
   "id": "7a0da17e",
   "metadata": {},
   "outputs": [
    {
     "data": {
      "text/plain": [
       "(2461, 2)"
      ]
     },
     "execution_count": 115,
     "metadata": {},
     "output_type": "execute_result"
    }
   ],
   "source": [
    "all_data.shape"
   ]
  },
  {
   "cell_type": "code",
   "execution_count": 116,
   "id": "96ad80e9",
   "metadata": {},
   "outputs": [],
   "source": [
    "all_data = all_data.dropna()\n",
    "# Remove rows with missing values (NaN)"
   ]
  },
  {
   "cell_type": "code",
   "execution_count": 117,
   "id": "842132f0",
   "metadata": {},
   "outputs": [
    {
     "data": {
      "text/plain": [
       "(2188, 2)"
      ]
     },
     "execution_count": 117,
     "metadata": {},
     "output_type": "execute_result"
    }
   ],
   "source": [
    "all_data.shape"
   ]
  },
  {
   "cell_type": "code",
   "execution_count": 118,
   "id": "e05ee125",
   "metadata": {},
   "outputs": [
    {
     "data": {
      "text/html": [
       "<div>\n",
       "<style scoped>\n",
       "    .dataframe tbody tr th:only-of-type {\n",
       "        vertical-align: middle;\n",
       "    }\n",
       "\n",
       "    .dataframe tbody tr th {\n",
       "        vertical-align: top;\n",
       "    }\n",
       "\n",
       "    .dataframe thead th {\n",
       "        text-align: right;\n",
       "    }\n",
       "</style>\n",
       "<table border=\"1\" class=\"dataframe\">\n",
       "  <thead>\n",
       "    <tr style=\"text-align: right;\">\n",
       "      <th></th>\n",
       "      <th>Question</th>\n",
       "      <th>Answer</th>\n",
       "    </tr>\n",
       "  </thead>\n",
       "  <tbody>\n",
       "    <tr>\n",
       "      <th>0</th>\n",
       "      <td>Abraham Lincoln : Was Abraham Lincoln the sixt...</td>\n",
       "      <td>yes</td>\n",
       "    </tr>\n",
       "    <tr>\n",
       "      <th>2</th>\n",
       "      <td>Abraham Lincoln : Did Lincoln sign the Nationa...</td>\n",
       "      <td>yes</td>\n",
       "    </tr>\n",
       "    <tr>\n",
       "      <th>4</th>\n",
       "      <td>Abraham Lincoln : Did his mother die of pneumo...</td>\n",
       "      <td>no</td>\n",
       "    </tr>\n",
       "    <tr>\n",
       "      <th>6</th>\n",
       "      <td>Abraham Lincoln : How many long was Lincoln's ...</td>\n",
       "      <td>18 months</td>\n",
       "    </tr>\n",
       "    <tr>\n",
       "      <th>8</th>\n",
       "      <td>Abraham Lincoln : When did Lincoln begin his p...</td>\n",
       "      <td>1832</td>\n",
       "    </tr>\n",
       "    <tr>\n",
       "      <th>10</th>\n",
       "      <td>Abraham Lincoln : What did The Legal Tender Ac...</td>\n",
       "      <td>the United States Note, the first paper curren...</td>\n",
       "    </tr>\n",
       "    <tr>\n",
       "      <th>12</th>\n",
       "      <td>Abraham Lincoln : Who suggested Lincoln grow a...</td>\n",
       "      <td>11-year-old Grace Bedell</td>\n",
       "    </tr>\n",
       "    <tr>\n",
       "      <th>14</th>\n",
       "      <td>Abraham Lincoln : When did the Gettysburg addr...</td>\n",
       "      <td>1776</td>\n",
       "    </tr>\n",
       "    <tr>\n",
       "      <th>16</th>\n",
       "      <td>Abraham Lincoln : Did Lincoln beat John C. Bre...</td>\n",
       "      <td>yes</td>\n",
       "    </tr>\n",
       "    <tr>\n",
       "      <th>18</th>\n",
       "      <td>Abraham Lincoln : Was Abraham Lincoln the firs...</td>\n",
       "      <td>No</td>\n",
       "    </tr>\n",
       "  </tbody>\n",
       "</table>\n",
       "</div>"
      ],
      "text/plain": [
       "                                             Question  \\\n",
       "0   Abraham Lincoln : Was Abraham Lincoln the sixt...   \n",
       "2   Abraham Lincoln : Did Lincoln sign the Nationa...   \n",
       "4   Abraham Lincoln : Did his mother die of pneumo...   \n",
       "6   Abraham Lincoln : How many long was Lincoln's ...   \n",
       "8   Abraham Lincoln : When did Lincoln begin his p...   \n",
       "10  Abraham Lincoln : What did The Legal Tender Ac...   \n",
       "12  Abraham Lincoln : Who suggested Lincoln grow a...   \n",
       "14  Abraham Lincoln : When did the Gettysburg addr...   \n",
       "16  Abraham Lincoln : Did Lincoln beat John C. Bre...   \n",
       "18  Abraham Lincoln : Was Abraham Lincoln the firs...   \n",
       "\n",
       "                                               Answer  \n",
       "0                                                 yes  \n",
       "2                                                 yes  \n",
       "4                                                  no  \n",
       "6                                           18 months  \n",
       "8                                                1832  \n",
       "10  the United States Note, the first paper curren...  \n",
       "12                           11-year-old Grace Bedell  \n",
       "14                                               1776  \n",
       "16                                                yes  \n",
       "18                                                 No  "
      ]
     },
     "execution_count": 118,
     "metadata": {},
     "output_type": "execute_result"
    }
   ],
   "source": [
    "all_data.head(10)"
   ]
  },
  {
   "cell_type": "code",
   "execution_count": 119,
   "id": "60b5209c",
   "metadata": {},
   "outputs": [
    {
     "data": {
      "image/png": "[encoded data removed]",
      "text/plain": [
       "<Figure size 1000x700 with 1 Axes>"
      ]
     },
     "metadata": {},
     "output_type": "display_data"
    }
   ],
   "source": [
    "\n",
    "# Get the frequency count of each answer\n",
    "answer_counts = all_data['Answer'].value_counts()\n",
    "\n",
    "# Plot the frequency counts\n",
    "plt.figure(figsize=(10,7))\n",
    "answer_counts[:20].plot(kind='bar')\n",
    "plt.title(\"Top 20 Most Common Answers\")\n",
    "plt.xlabel(\"Answers\")\n",
    "plt.ylabel(\"Frequency\")\n",
    "plt.show()\n"
   ]
  },
  {
   "cell_type": "code",
   "execution_count": 120,
   "id": "9dcc8817",
   "metadata": {},
   "outputs": [
    {
     "data": {
      "image/png": "[encoded data removed]",
      "text/plain": [
       "<Figure size 640x480 with 1 Axes>"
      ]
     },
     "metadata": {},
     "output_type": "display_data"
    },
    {
     "data": {
      "image/png": "[encoded data removed]",
      "text/plain": [
       "<Figure size 640x480 with 1 Axes>"
      ]
     },
     "metadata": {},
     "output_type": "display_data"
    }
   ],
   "source": [
    "import collections\n",
    "# Count the occurrences of each question\n",
    "question_counts = collections.Counter(all_data['Question'])\n",
    "# Get the top 10 most frequent questions\n",
    "top_questions = question_counts.most_common(10)\n",
    "\n",
    "# Count the occurrences of each answer\n",
    "answer_counts = collections.Counter(all_data['Answer'])\n",
    "# Get the top 10 most frequent answers\n",
    "top_answers = answer_counts.most_common(10)\n",
    "\n",
    "# Plot the top 10 most frequent questions as a bar chart\n",
    "plt.bar([q[0] for q in top_questions], [q[1] for q in top_questions], color='b')\n",
    "plt.xticks(rotation=90)\n",
    "plt.title('Top 10 Most Common Questions')\n",
    "plt.xlabel('Questions')\n",
    "plt.ylabel('Frequency')\n",
    "plt.show()\n",
    "\n",
    "# Plot the top 10 most frequent answers as a bar chart\n",
    "plt.bar([a[0] for a in top_answers], [a[1] for a in top_answers], color='g')\n",
    "plt.xticks(rotation=90)\n",
    "plt.title('Top 10 Most Common Answers')\n",
    "plt.xlabel('Answer')\n",
    "plt.ylabel('Frequency')\n",
    "plt.show()\n"
   ]
  },
  {
   "cell_type": "markdown",
   "id": "e7fd3856",
   "metadata": {},
   "source": [
    "## frequencies and statistical model of language"
   ]
  },
  {
   "cell_type": "code",
   "execution_count": 121,
   "id": "02b16f90",
   "metadata": {},
   "outputs": [],
   "source": [
    "# Import the list of stopwords from the nltk package for English language\n",
    "stopwords_list = stopwords.words('english')\n",
    "\n",
    "# Create a WordNetLemmatizer object\n",
    "lemmatizer = WordNetLemmatizer()\n",
    "\n",
    "# Define a function that takes a document as input and performs tokenization, part-of-speech tagging,\n",
    "# removal of stopwords and punctuation, and lemmatization\n",
    "def my_tokenizer(doc):\n",
    "    # Tokenize the document using the word_tokenize() function from the nltk package\n",
    "    words = word_tokenize(doc)\n",
    "    \n",
    "    # Perform part-of-speech tagging on the tokens using the pos_tag() function from the nltk package\n",
    "    pos_tags = pos_tag(words)\n",
    "    \n",
    "    # Remove the stopwords from the list of pos-tagged tokens using a list comprehension\n",
    "    non_stopwords = [w for w in pos_tags if not w[0].lower() in stopwords_list]\n",
    "    \n",
    "    # Remove the punctuation from the list of non-stopwords using another list comprehension\n",
    "    non_punctuation = [w for w in non_stopwords if not w[0] in string.punctuation]\n",
    "    \n",
    "    # Lemmatize each token in the list of non-punctuation words based on its part of speech tag\n",
    "    # using a for loop and the lemmatize() function from the WordNetLemmatizer object\n",
    "    lemmas = []\n",
    "    for w in non_punctuation:      \n",
    "        if w[1].startswith('J'):  # check if the word is an adjective (start with 'J' in part-of-speech tag)\n",
    "            pos = wordnet.ADJ    # if so, set the part-of-speech tag to adjective\n",
    "        elif w[1].startswith('V'):  # check if the word is a verb (start with 'V' in part-of-speech tag)\n",
    "            pos = wordnet.VERB   # if so, set the part-of-speech tag to verb\n",
    "        elif w[1].startswith('N'):  # check if the word is a noun (start with 'N' in part-of-speech tag)\n",
    "            pos = wordnet.NOUN   # if so, set the part-of-speech tag to noun\n",
    "        elif w[1].startswith('R'):  # check if the word is an adverb (start with 'R' in part-of-speech tag)\n",
    "            pos = wordnet.ADV    # if so, set the part-of-speech tag to adverb\n",
    "        else:                     # if the word is not an adjective, verb, noun, or adverb\n",
    "            pos = wordnet.NOUN   # set the part-of-speech tag to noun (as a default)\n",
    "        \n",
    "        lemmas.append(lemmatizer.lemmatize(w[0], pos))   # apply lemmatization on the current word with its corresponding part-of-speech tag, and append the resulting lemma to the list of lemmas\n",
    "\n",
    "\n",
    "    # Return the list of lemmas as the output of the function\n",
    "    return lemmas\n"
   ]
  },
  {
   "cell_type": "code",
   "execution_count": 122,
   "id": "7b64e624",
   "metadata": {},
   "outputs": [],
   "source": [
    "tfidf_vectorizer = TfidfVectorizer(tokenizer=my_tokenizer)"
   ]
  },
  {
   "cell_type": "code",
   "execution_count": 123,
   "id": "02a709f9",
   "metadata": {},
   "outputs": [],
   "source": [
    "tfidf_matrix = tfidf_vectorizer.fit_transform(tuple(all_data['Question']))"
   ]
  },
  {
   "cell_type": "code",
   "execution_count": 124,
   "id": "efdfbc15",
   "metadata": {},
   "outputs": [
    {
     "name": "stdout",
     "output_type": "stream",
     "text": [
      "(2188, 3548)\n"
     ]
    }
   ],
   "source": [
    "print(tfidf_matrix.shape)"
   ]
  },
  {
   "cell_type": "markdown",
   "id": "cb4e85d9",
   "metadata": {},
   "source": [
    "## explication : \n",
    "\n",
    " - Ces lignes de code utilisent la classe \" TfidfVectorizer \" de la bibliothèque scikit-learn pour créer une matrice de pondération de termes-idf (TF-IDF) pour toutes les questions contenues dans la colonne \"Question\" du DataFrame \"all_data\".\n",
    " \n",
    " - La fonction \" my_tokenizer() \"  est utilisée comme une fonction de tokenization personnalisée pour diviser chaque question en mots et effectuer un prétraitement pour retirer les stopwords, la ponctuation et effectuer une lemmatisation.\n",
    " \n",
    " - La matrice TF-IDF résultante est stockée dans \" tfidf_matrix\"  et chaque question est représentée par un vecteur dans cet espace de dimensionnalité réduite."
   ]
  },
  {
   "cell_type": "markdown",
   "id": "a87bfaa6",
   "metadata": {},
   "source": [
    "## visualization of tests and results"
   ]
  },
  {
   "cell_type": "markdown",
   "id": "a87f9c52",
   "metadata": {},
   "source": [
    "### method 1 , simple command line"
   ]
  },
  {
   "cell_type": "markdown",
   "id": "7961cf6a",
   "metadata": {},
   "source": [
    "### define a function to test with command line\n",
    "\n",
    "1.here we define the function ask_question() with a string as an argument. This string represents the question you want to ask.\n",
    "\n",
    "2.The function will use the TfidfVectorizer to transform the input question into a vector representation.\n",
    "\n",
    "3.The function will then calculate the cosine similarity between the vector representation of the input question and all the vector representations of the questions in the corpus (all_data).\n",
    "\n",
    "4.The function will find the question in the corpus with the highest cosine similarity to the input question.\n",
    "\n",
    "5.The function will print the input question, the closest question found in the corpus, the similarity score between the input question and the closest question, and the answer to the closest question.\n",
    "\n",
    "6.You can repeat this process with different input questions to see how well the function performs in finding the closest matching question and providing an appropriate answer."
   ]
  },
  {
   "cell_type": "code",
   "execution_count": 130,
   "id": "3a5f4a35",
   "metadata": {},
   "outputs": [],
   "source": [
    "def ask_question(question):\n",
    "    # Transform the input question into a vector representation using the TF-IDF vectorizer.\n",
    "    query_vect = tfidf_vectorizer.transform([question])\n",
    "    \n",
    "    # Calculate the cosine similarity between the input question and all the questions in the dataset.\n",
    "    # This returns an array of similarity scores.\n",
    "    similarity = cosine_similarity(query_vect, tfidf_matrix)\n",
    "    \n",
    "    # Find the index of the question in the dataset that has the highest similarity score to the input question.\n",
    "    max_similarity = np.argmax(similarity, axis=None)\n",
    "    \n",
    "    # Print the input question, the closest question in the dataset, the similarity score, and the answer to the closest question.\n",
    "    print('Your question:', question)\n",
    "    print('Closest question found in the Article :', all_data.iloc[max_similarity]['Question'])\n",
    "    print('Similarity: {:.2%}'.format(similarity[0, max_similarity]))\n",
    "    print('Answer:', all_data.iloc[max_similarity]['Answer'])\n"
   ]
  },
  {
   "cell_type": "code",
   "execution_count": 131,
   "id": "340269a6",
   "metadata": {},
   "outputs": [
    {
     "name": "stdout",
     "output_type": "stream",
     "text": [
      "Your question: When Abraham Lincoln started his political career\n",
      "Closest question found in the Article : Abraham Lincoln : Did Lincoln start his political career in 1832?\n",
      "Similarity: 88.14%\n",
      "Answer: Yes\n"
     ]
    }
   ],
   "source": [
    "ask_question('When Abraham Lincoln started his political career')"
   ]
  },
  {
   "cell_type": "code",
   "execution_count": 132,
   "id": "e0423b6a",
   "metadata": {},
   "outputs": [
    {
     "name": "stdout",
     "output_type": "stream",
     "text": [
      "Your question: Which county was Lincoln born in\n",
      "Closest question found in the Article : Abraham Lincoln : Which county was Lincoln born in?\n",
      "Similarity: 88.64%\n",
      "Answer: Hardin County\n"
     ]
    }
   ],
   "source": [
    "ask_question(\"Which county was Lincoln born in\")"
   ]
  },
  {
   "cell_type": "code",
   "execution_count": 133,
   "id": "38e932dd",
   "metadata": {},
   "outputs": [
    {
     "name": "stdout",
     "output_type": "stream",
     "text": [
      "Your question:  what is ottawa ?\n",
      "Closest question found in the Article : Ottawa : Is Ottawa on a river?\n",
      "Similarity: 87.53%\n",
      "Answer: yes\n"
     ]
    }
   ],
   "source": [
    "ask_question(' what is ottawa ?')"
   ]
  },
  {
   "cell_type": "code",
   "execution_count": 134,
   "id": "ddb52305",
   "metadata": {},
   "outputs": [
    {
     "name": "stdout",
     "output_type": "stream",
     "text": [
      "Your question: are nicola tesla born in tunisia ? \n",
      "Closest question found in the Article : Nikola Tesla : Was Tesla born in the United States?\n",
      "Similarity: 74.10%\n",
      "Answer: No\n"
     ]
    }
   ],
   "source": [
    "ask_question('are nicola tesla born in tunisia ? ')"
   ]
  },
  {
   "cell_type": "code",
   "execution_count": 135,
   "id": "6e9c4856",
   "metadata": {},
   "outputs": [
    {
     "name": "stdout",
     "output_type": "stream",
     "text": [
      "Your question: Alessandro Volta, is a professor of chemistry?\n",
      "Closest question found in the Article : Alessandro Volta : Was Alessandro Volta a professor of chemistry?\n",
      "Similarity: 94.30%\n",
      "Answer: Alessandro Volta was not a professor of chemistry.\n"
     ]
    }
   ],
   "source": [
    "ask_question('Alessandro Volta, is a professor of chemistry?')"
   ]
  },
  {
   "cell_type": "markdown",
   "id": "91aa3dea",
   "metadata": {},
   "source": [
    "### method 2 : we use the same function but we test with GUI from gradio"
   ]
  },
  {
   "cell_type": "code",
   "execution_count": 141,
   "id": "7846f7b3",
   "metadata": {},
   "outputs": [
    {
     "name": "stdout",
     "output_type": "stream",
     "text": [
      "Running on local URL:  http://127.0.0.1:7863\n",
      "\n",
      "To create a public link, set `share=True` in `launch()`.\n"
     ]
    },
    {
     "data": {
      "text/html": [
       "<div><iframe src=\"http://127.0.0.1:7863/\" width=\"100%\" height=\"500\" allow=\"autoplay; camera; microphone; clipboard-read; clipboard-write;\" frameborder=\"0\" allowfullscreen></iframe></div>"
      ],
      "text/plain": [
       "<IPython.core.display.HTML object>"
      ]
     },
     "metadata": {},
     "output_type": "display_data"
    },
    {
     "data": {
      "text/plain": []
     },
     "execution_count": 141,
     "metadata": {},
     "output_type": "execute_result"
    }
   ],
   "source": [
    "import gradio as gr # Import the Gradio library for creating the user interface.\n",
    "\n",
    "def ask_question(question):\n",
    "    \n",
    "    query_vect = tfidf_vectorizer.transform([question])\n",
    "    \n",
    "    similarity = cosine_similarity(query_vect, tfidf_matrix)\n",
    "    \n",
    "    max_similarity = np.argmax(similarity, axis=None)\n",
    "    \n",
    "    closest_question = all_data.iloc[max_similarity]['Question']\n",
    "    similarity_score = similarity[0, max_similarity]\n",
    "    answer = all_data.iloc[max_similarity]['Answer']\n",
    "    \n",
    "    return f\"Closest question found in the Article: {closest_question}\\nSimilarity: {similarity_score:.2%}\\nAnswer: {answer}\"\n",
    "\n",
    "iface = gr.Interface(fn=ask_question, inputs=\"text\", outputs=\"text\", title=\"Question Answering System by imhamed boujemaa\", description=\"Enter a question to find the closest question in the given article and its answer.\")\n",
    "\n",
    "iface.launch()\n"
   ]
  }
 ],
 "metadata": {
  "kernelspec": {
   "display_name": "Python 3 (ipykernel)",
   "language": "python",
   "name": "python3"
  },
  "language_info": {
   "codemirror_mode": {
    "name": "ipython",
    "version": 3
   },
   "file_extension": ".py",
   "mimetype": "text/x-python",
   "name": "python",
   "nbconvert_exporter": "python",
   "pygments_lexer": "ipython3",
   "version": "3.9.13"
  }
 },
 "nbformat": 4,
 "nbformat_minor": 5
}
